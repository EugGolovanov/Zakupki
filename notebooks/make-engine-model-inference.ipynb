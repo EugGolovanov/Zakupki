{
 "cells": [
  {
   "cell_type": "code",
   "execution_count": 1,
   "id": "23bc99a9-79d0-4931-8516-6861eb186d09",
   "metadata": {},
   "outputs": [],
   "source": [
    "import torch\n",
    "import torch.nn as nn\n",
    "import torch.nn.functional as F\n",
    "import torch.optim as optim\n",
    "import torchvision\n",
    "from torch.utils.data import Dataset, DataLoader\n",
    "\n",
    "import os\n",
    "import cv2\n",
    "from PIL import Image\n",
    "from tqdm.notebook import tqdm\n",
    "from tqdm.contrib.telegram import tqdm as tgdm_tg\n",
    "from prettytable import PrettyTable\n",
    "import random\n",
    "import numpy as np\n",
    "import gc\n",
    "import scipy.io as sio\n",
    "import pandas as pd\n",
    "import time\n",
    "\n",
    "from sklearn.metrics import f1_score, accuracy_score, matthews_corrcoef\n",
    "\n",
    "from torchvision import datasets, transforms as T\n",
    "\n",
    "from transformers import AutoTokenizer, AutoModel\n",
    "\n",
    "from sklearn import preprocessing\n",
    "from sklearn.model_selection import train_test_split\n",
    "\n",
    "from pynvml import nvmlInit, nvmlDeviceGetHandleByIndex, nvmlDeviceGetMemoryInfo"
   ]
  },
  {
   "cell_type": "code",
   "execution_count": 2,
   "id": "5bc9dec5-d29f-4098-b768-721a012ebcb5",
   "metadata": {},
   "outputs": [
    {
     "name": "stdout",
     "output_type": "stream",
     "text": [
      "Sun Oct  2 05:35:07 2022       \n",
      "+-----------------------------------------------------------------------------+\n",
      "| NVIDIA-SMI 450.80.02    Driver Version: 450.80.02    CUDA Version: 11.0     |\n",
      "|-------------------------------+----------------------+----------------------+\n",
      "| GPU  Name        Persistence-M| Bus-Id        Disp.A | Volatile Uncorr. ECC |\n",
      "| Fan  Temp  Perf  Pwr:Usage/Cap|         Memory-Usage | GPU-Util  Compute M. |\n",
      "|                               |                      |               MIG M. |\n",
      "|===============================+======================+======================|\n",
      "|   0  A100 Graphics D...  On   | 00000000:0F:00.0 Off |                    0 |\n",
      "| N/A   28C    P0    72W / 400W |   5917MiB / 81252MiB |      0%      Default |\n",
      "|                               |                      |             Disabled |\n",
      "+-------------------------------+----------------------+----------------------+\n",
      "|   1  A100 Graphics D...  On   | 00000000:87:00.0 Off |                    0 |\n",
      "| N/A   32C    P0    73W / 400W |   6628MiB / 81252MiB |      0%      Default |\n",
      "|                               |                      |             Disabled |\n",
      "+-------------------------------+----------------------+----------------------+\n",
      "|   2  A100 Graphics D...  On   | 00000000:90:00.0 Off |                    0 |\n",
      "| N/A   43C    P0    79W / 400W |  13584MiB / 81252MiB |      0%      Default |\n",
      "|                               |                      |             Disabled |\n",
      "+-------------------------------+----------------------+----------------------+\n",
      "                                                                               \n",
      "+-----------------------------------------------------------------------------+\n",
      "| Processes:                                                                  |\n",
      "|  GPU   GI   CI        PID   Type   Process name                  GPU Memory |\n",
      "|        ID   ID                                                   Usage      |\n",
      "|=============================================================================|\n",
      "+-----------------------------------------------------------------------------+\n"
     ]
    }
   ],
   "source": [
    "!nvidia-smi"
   ]
  },
  {
   "cell_type": "code",
   "execution_count": 3,
   "id": "de8745d6-3a74-4a93-9ed7-b97823d1d741",
   "metadata": {},
   "outputs": [
    {
     "name": "stderr",
     "output_type": "stream",
     "text": [
      "Some weights of the model checkpoint at cointegrated/rubert-tiny2 were not used when initializing BertModel: ['cls.predictions.transform.dense.bias', 'cls.predictions.transform.dense.weight', 'cls.predictions.decoder.weight', 'cls.predictions.decoder.bias', 'cls.predictions.transform.LayerNorm.weight', 'cls.seq_relationship.weight', 'cls.predictions.bias', 'cls.predictions.transform.LayerNorm.bias', 'cls.seq_relationship.bias']\n",
      "- This IS expected if you are initializing BertModel from the checkpoint of a model trained on another task or with another architecture (e.g. initializing a BertForSequenceClassification model from a BertForPreTraining model).\n",
      "- This IS NOT expected if you are initializing BertModel from the checkpoint of a model that you expect to be exactly identical (initializing a BertForSequenceClassification model from a BertForSequenceClassification model).\n"
     ]
    }
   ],
   "source": [
    "device = torch.device('cuda:2' if torch.cuda.is_available() else 'cpu')\n",
    "tokenizer = AutoTokenizer.from_pretrained(\"cointegrated/rubert-tiny2\")\n",
    "model = AutoModel.from_pretrained(\"cointegrated/rubert-tiny2\")"
   ]
  },
  {
   "cell_type": "code",
   "execution_count": 4,
   "id": "2b0628f4-4297-4fa8-9800-0844e3548485",
   "metadata": {},
   "outputs": [],
   "source": [
    "dfK = pd.read_csv('./data/Контракты 44ФЗ.csv', sep=';').drop_duplicates()\n",
    "dfD = pd.read_csv('./data/Справочник пром производства.csv', sep=';').drop_duplicates()\n",
    "dfP = pd.read_csv('./data/Ценовые предложения поставщиков.csv', sep=';').drop_duplicates()"
   ]
  },
  {
   "cell_type": "code",
   "execution_count": 5,
   "id": "fe71c512-53a6-4b5b-873f-3c1fe3739df8",
   "metadata": {},
   "outputs": [],
   "source": [
    "dfK.is_contract = 1\n",
    "dfP.is_contract = -1\n",
    "dfD.is_contract = 0"
   ]
  },
  {
   "cell_type": "code",
   "execution_count": 6,
   "id": "1414d0d8-98b0-4258-9220-54a76179a100",
   "metadata": {},
   "outputs": [],
   "source": [
    "full_df = pd.concat([dfK, dfP, dfD], ignore_index=True)"
   ]
  },
  {
   "cell_type": "code",
   "execution_count": 7,
   "id": "b308440d-9d6b-4aaa-a9eb-d2838c12693a",
   "metadata": {},
   "outputs": [],
   "source": [
    "selected = full_df[[\"product_name\", \"okpd2_code\", \"product_characteristics\"]].drop_duplicates()\n",
    "count_df = full_df[[\"product_name\", \"okpd2_code\", \"product_characteristics\"]].drop_duplicates().groupby(\"okpd2_code\").agg(\"count\").reset_index()\n",
    "classes = count_df.query(\"product_name >= 50\")[\"okpd2_code\"].to_list()\n",
    "del selected, count_df"
   ]
  },
  {
   "cell_type": "code",
   "execution_count": 8,
   "id": "ce6f3800-4642-4c6d-ae14-b77d694bd80a",
   "metadata": {},
   "outputs": [],
   "source": [
    "full_df[\"okpd2_value\"] = full_df[\"okpd2_code\"].apply(lambda x: x.split(\".\")[0])"
   ]
  },
  {
   "cell_type": "code",
   "execution_count": 9,
   "id": "88910861-ae2a-4f77-a9b6-7fb78361117c",
   "metadata": {},
   "outputs": [],
   "source": [
    "temp = full_df.drop_duplicates(subset=[\"product_name\", \"okpd2_code\", \"product_characteristics\", \"okpd2_value\"])\n",
    "temp = temp.reset_index(drop=True)"
   ]
  },
  {
   "cell_type": "code",
   "execution_count": 10,
   "id": "6f984760-fbd5-4170-83c8-53c0a9c9d04b",
   "metadata": {},
   "outputs": [],
   "source": [
    "temp[\"product_characteristics\"] = temp[\"product_characteristics\"].replace(np.nan, \"\")\n",
    "temp[\"text\"] = (temp[\"product_name\"].str.strip() + \" [SEP] \" + temp[\"product_characteristics\"].str.strip()).str.strip().str.strip().str.lower()\n",
    "temp[\"country_code\"] = temp[\"country_code\"].replace(np.nan, -100)"
   ]
  },
  {
   "cell_type": "code",
   "execution_count": 11,
   "id": "2d1c83f2-3bab-4ad4-a7d6-40f187dc2168",
   "metadata": {},
   "outputs": [],
   "source": [
    "class BertCLS(nn.Module):\n",
    "    def __init__(self, model, n_classes):\n",
    "        super(BertCLS, self).__init__()\n",
    "        self.model = model\n",
    "        self.fc = nn.Linear(312, n_classes)\n",
    "\n",
    "    def forward(self, batch):\n",
    "        return self.fc(self.model(**batch).pooler_output)"
   ]
  },
  {
   "cell_type": "code",
   "execution_count": 12,
   "id": "57e0ba64-45b0-4252-b845-7eaa9c8c27e2",
   "metadata": {},
   "outputs": [],
   "source": [
    "bert_cls = BertCLS(model, len(classes))"
   ]
  },
  {
   "cell_type": "code",
   "execution_count": 13,
   "id": "5911a3fc-98b7-4fa4-af32-63d053e821ab",
   "metadata": {},
   "outputs": [
    {
     "data": {
      "text/plain": [
       "1463"
      ]
     },
     "execution_count": 13,
     "metadata": {},
     "output_type": "execute_result"
    }
   ],
   "source": [
    "len(classes)"
   ]
  },
  {
   "cell_type": "code",
   "execution_count": 14,
   "id": "95f26a25-0b5b-4bcf-af66-45471d298737",
   "metadata": {},
   "outputs": [
    {
     "data": {
      "text/plain": [
       "<All keys matched successfully>"
      ]
     },
     "execution_count": 14,
     "metadata": {},
     "output_type": "execute_result"
    }
   ],
   "source": [
    "bert_cls.load_state_dict(torch.load(\"./BertCLS_epoch_2_1500_lower.pth\", map_location=torch.device(\"cpu\")))"
   ]
  },
  {
   "cell_type": "code",
   "execution_count": 15,
   "id": "af8d551d-f885-48fb-acfb-4a381136cb81",
   "metadata": {},
   "outputs": [],
   "source": [
    "class ClassificationDataset(Dataset):\n",
    "    def __init__(self, data):\n",
    "        super().__init__()\n",
    "        self.data = data\n",
    "\n",
    "    def __getitem__(self, idx):\n",
    "        text = self.data[idx]\n",
    "        return text\n",
    "\n",
    "    def __len__(self):\n",
    "        return len(self.data)\n",
    "\n",
    "def collate_fn(batch):\n",
    "    model_input = []\n",
    "    for text in batch:\n",
    "        model_input.append(text)\n",
    "\n",
    "    tok = tokenizer(model_input, padding=True,\n",
    "                    max_length=300, truncation=True,\n",
    "                    return_tensors='pt')\n",
    "    return tok"
   ]
  },
  {
   "cell_type": "code",
   "execution_count": 16,
   "id": "40dca74b-876a-4d1e-be38-e5379885f9ce",
   "metadata": {},
   "outputs": [],
   "source": [
    "def get_loader(dataset, shuffle, batch_size):\n",
    "    loader = DataLoader(\n",
    "        dataset,\n",
    "        batch_size=batch_size,\n",
    "        shuffle=shuffle,\n",
    "        pin_memory=False,\n",
    "        num_workers=0,\n",
    "        collate_fn=collate_fn\n",
    "    )\n",
    "    return loader"
   ]
  },
  {
   "cell_type": "code",
   "execution_count": 17,
   "id": "a777fc66-abcc-4601-8a5c-78dd0df823c4",
   "metadata": {},
   "outputs": [],
   "source": [
    "batch_size = 400\n",
    "train_dataset = ClassificationDataset(temp[\"text\"].values)\n",
    "train_loader = get_loader(train_dataset, shuffle=False, batch_size=batch_size)"
   ]
  },
  {
   "cell_type": "code",
   "execution_count": 18,
   "id": "40e5060e-fb85-4402-adfc-7b496a72cbc3",
   "metadata": {},
   "outputs": [],
   "source": [
    "bert_cls = bert_cls.to(device)"
   ]
  },
  {
   "cell_type": "code",
   "execution_count": 19,
   "id": "e73d781c-9808-4b90-aab3-b5a38eeb3c38",
   "metadata": {},
   "outputs": [],
   "source": [
    "def test(model, loader, device):\n",
    "    pred = []\n",
    "    model.eval()\n",
    "    with torch.no_grad():\n",
    "        pbar = tgdm_tg(loader, token=\"5258964872:AAGPTJDWI2QBOqe_5jqlNqKr-fZf_xwhcEs\", chat_id=\"661328720\")\n",
    "        for batch_idx, data in enumerate(pbar):\n",
    "            data = data.to(device)\n",
    "            embeddings = model.model(**data).pooler_output.detach().cpu().numpy().astype(np.float16)\n",
    "            pred.extend(embeddings)\n",
    "    return pred"
   ]
  },
  {
   "cell_type": "code",
   "execution_count": 20,
   "id": "ddcb714a-e9e4-4dfe-b108-2f469395e002",
   "metadata": {},
   "outputs": [
    {
     "data": {
      "application/vnd.jupyter.widget-view+json": {
       "model_id": "4bc463a51c944be2b60f6532fb40dcbb",
       "version_major": 2,
       "version_minor": 0
      },
      "text/plain": [
       "  0%|          | 0/2521 [00:00<?, ?it/s]"
      ]
     },
     "metadata": {},
     "output_type": "display_data"
    }
   ],
   "source": [
    "logits = test(bert_cls, train_loader, device)"
   ]
  },
  {
   "cell_type": "code",
   "execution_count": 21,
   "id": "ed1b81da-b930-40bb-b47e-ae21b1d2de21",
   "metadata": {},
   "outputs": [
    {
     "data": {
      "text/plain": [
       "(312,)"
      ]
     },
     "execution_count": 21,
     "metadata": {},
     "output_type": "execute_result"
    }
   ],
   "source": [
    "logits[0].shape"
   ]
  },
  {
   "cell_type": "code",
   "execution_count": 22,
   "id": "d1e16441-26bc-4b4f-b8db-15c0d24b53ab",
   "metadata": {},
   "outputs": [
    {
     "data": {
      "text/plain": [
       "1008321"
      ]
     },
     "execution_count": 22,
     "metadata": {},
     "output_type": "execute_result"
    }
   ],
   "source": [
    "len(logits)"
   ]
  },
  {
   "cell_type": "code",
   "execution_count": 23,
   "id": "8e9114e3-8c4a-45f0-96ff-ae6c8b766a06",
   "metadata": {},
   "outputs": [],
   "source": [
    "df = pd.DataFrame(logits)"
   ]
  },
  {
   "cell_type": "code",
   "execution_count": 24,
   "id": "6b3f24ca-9857-4e29-b0be-01b7bf6c380d",
   "metadata": {},
   "outputs": [
    {
     "name": "stdout",
     "output_type": "stream",
     "text": [
      "<class 'pandas.core.frame.DataFrame'>\n",
      "RangeIndex: 1008321 entries, 0 to 1008320\n",
      "Columns: 312 entries, 0 to 311\n",
      "dtypes: float16(312)\n",
      "memory usage: 600.0 MB\n"
     ]
    }
   ],
   "source": [
    "df.info()"
   ]
  },
  {
   "cell_type": "code",
   "execution_count": 25,
   "id": "9cdaa140-30d9-4391-88c7-a86d4b3162df",
   "metadata": {},
   "outputs": [
    {
     "data": {
      "text/html": [
       "<div>\n",
       "<style scoped>\n",
       "    .dataframe tbody tr th:only-of-type {\n",
       "        vertical-align: middle;\n",
       "    }\n",
       "\n",
       "    .dataframe tbody tr th {\n",
       "        vertical-align: top;\n",
       "    }\n",
       "\n",
       "    .dataframe thead th {\n",
       "        text-align: right;\n",
       "    }\n",
       "</style>\n",
       "<table border=\"1\" class=\"dataframe\">\n",
       "  <thead>\n",
       "    <tr style=\"text-align: right;\">\n",
       "      <th></th>\n",
       "      <th>0</th>\n",
       "      <th>1</th>\n",
       "      <th>2</th>\n",
       "      <th>3</th>\n",
       "      <th>4</th>\n",
       "      <th>5</th>\n",
       "      <th>6</th>\n",
       "      <th>7</th>\n",
       "      <th>8</th>\n",
       "      <th>9</th>\n",
       "      <th>...</th>\n",
       "      <th>302</th>\n",
       "      <th>303</th>\n",
       "      <th>304</th>\n",
       "      <th>305</th>\n",
       "      <th>306</th>\n",
       "      <th>307</th>\n",
       "      <th>308</th>\n",
       "      <th>309</th>\n",
       "      <th>310</th>\n",
       "      <th>311</th>\n",
       "    </tr>\n",
       "  </thead>\n",
       "  <tbody>\n",
       "    <tr>\n",
       "      <th>0</th>\n",
       "      <td>0.863770</td>\n",
       "      <td>1.000000</td>\n",
       "      <td>-1.000000</td>\n",
       "      <td>-0.999512</td>\n",
       "      <td>-0.999512</td>\n",
       "      <td>-0.949707</td>\n",
       "      <td>0.998047</td>\n",
       "      <td>-0.999512</td>\n",
       "      <td>-0.853516</td>\n",
       "      <td>1.000000</td>\n",
       "      <td>...</td>\n",
       "      <td>-0.339844</td>\n",
       "      <td>-0.996582</td>\n",
       "      <td>-0.999512</td>\n",
       "      <td>0.999512</td>\n",
       "      <td>-0.987305</td>\n",
       "      <td>1.000000</td>\n",
       "      <td>0.802734</td>\n",
       "      <td>0.997070</td>\n",
       "      <td>0.997070</td>\n",
       "      <td>0.947754</td>\n",
       "    </tr>\n",
       "    <tr>\n",
       "      <th>1</th>\n",
       "      <td>0.052368</td>\n",
       "      <td>-1.000000</td>\n",
       "      <td>0.434814</td>\n",
       "      <td>-0.998047</td>\n",
       "      <td>0.983887</td>\n",
       "      <td>0.955566</td>\n",
       "      <td>0.981934</td>\n",
       "      <td>0.747559</td>\n",
       "      <td>-0.188477</td>\n",
       "      <td>0.644043</td>\n",
       "      <td>...</td>\n",
       "      <td>0.998535</td>\n",
       "      <td>-0.859863</td>\n",
       "      <td>-0.969727</td>\n",
       "      <td>0.996094</td>\n",
       "      <td>-0.619629</td>\n",
       "      <td>0.961426</td>\n",
       "      <td>-0.988770</td>\n",
       "      <td>0.632812</td>\n",
       "      <td>0.984375</td>\n",
       "      <td>-0.997070</td>\n",
       "    </tr>\n",
       "    <tr>\n",
       "      <th>2</th>\n",
       "      <td>0.999512</td>\n",
       "      <td>0.999512</td>\n",
       "      <td>-0.999023</td>\n",
       "      <td>-0.981445</td>\n",
       "      <td>-0.144897</td>\n",
       "      <td>-0.363281</td>\n",
       "      <td>-0.887695</td>\n",
       "      <td>-0.557617</td>\n",
       "      <td>0.886230</td>\n",
       "      <td>0.998535</td>\n",
       "      <td>...</td>\n",
       "      <td>0.995605</td>\n",
       "      <td>-1.000000</td>\n",
       "      <td>-0.997070</td>\n",
       "      <td>0.999023</td>\n",
       "      <td>-0.994629</td>\n",
       "      <td>-0.998535</td>\n",
       "      <td>0.976562</td>\n",
       "      <td>0.999512</td>\n",
       "      <td>-0.989258</td>\n",
       "      <td>-0.865723</td>\n",
       "    </tr>\n",
       "    <tr>\n",
       "      <th>3</th>\n",
       "      <td>0.266357</td>\n",
       "      <td>0.999023</td>\n",
       "      <td>0.980469</td>\n",
       "      <td>-0.959961</td>\n",
       "      <td>-0.708496</td>\n",
       "      <td>-0.972656</td>\n",
       "      <td>0.999512</td>\n",
       "      <td>-0.970215</td>\n",
       "      <td>-0.596191</td>\n",
       "      <td>-0.123657</td>\n",
       "      <td>...</td>\n",
       "      <td>-0.999512</td>\n",
       "      <td>-0.434570</td>\n",
       "      <td>-0.095520</td>\n",
       "      <td>0.992676</td>\n",
       "      <td>0.726074</td>\n",
       "      <td>1.000000</td>\n",
       "      <td>-0.989258</td>\n",
       "      <td>-0.473633</td>\n",
       "      <td>0.999512</td>\n",
       "      <td>-0.868652</td>\n",
       "    </tr>\n",
       "    <tr>\n",
       "      <th>4</th>\n",
       "      <td>0.948242</td>\n",
       "      <td>-1.000000</td>\n",
       "      <td>-0.439697</td>\n",
       "      <td>0.971191</td>\n",
       "      <td>-0.792969</td>\n",
       "      <td>-0.812500</td>\n",
       "      <td>-0.991699</td>\n",
       "      <td>0.999512</td>\n",
       "      <td>1.000000</td>\n",
       "      <td>0.872070</td>\n",
       "      <td>...</td>\n",
       "      <td>0.662598</td>\n",
       "      <td>0.998047</td>\n",
       "      <td>-0.999023</td>\n",
       "      <td>0.996582</td>\n",
       "      <td>0.996582</td>\n",
       "      <td>0.995117</td>\n",
       "      <td>-0.998535</td>\n",
       "      <td>-0.997559</td>\n",
       "      <td>-0.899902</td>\n",
       "      <td>0.996094</td>\n",
       "    </tr>\n",
       "    <tr>\n",
       "      <th>...</th>\n",
       "      <td>...</td>\n",
       "      <td>...</td>\n",
       "      <td>...</td>\n",
       "      <td>...</td>\n",
       "      <td>...</td>\n",
       "      <td>...</td>\n",
       "      <td>...</td>\n",
       "      <td>...</td>\n",
       "      <td>...</td>\n",
       "      <td>...</td>\n",
       "      <td>...</td>\n",
       "      <td>...</td>\n",
       "      <td>...</td>\n",
       "      <td>...</td>\n",
       "      <td>...</td>\n",
       "      <td>...</td>\n",
       "      <td>...</td>\n",
       "      <td>...</td>\n",
       "      <td>...</td>\n",
       "      <td>...</td>\n",
       "      <td>...</td>\n",
       "    </tr>\n",
       "    <tr>\n",
       "      <th>1008316</th>\n",
       "      <td>-0.990234</td>\n",
       "      <td>0.969727</td>\n",
       "      <td>-0.952637</td>\n",
       "      <td>0.762695</td>\n",
       "      <td>-1.000000</td>\n",
       "      <td>-0.969727</td>\n",
       "      <td>-0.906738</td>\n",
       "      <td>-0.973145</td>\n",
       "      <td>0.945312</td>\n",
       "      <td>0.486084</td>\n",
       "      <td>...</td>\n",
       "      <td>-0.947754</td>\n",
       "      <td>-0.934570</td>\n",
       "      <td>0.986816</td>\n",
       "      <td>-0.914062</td>\n",
       "      <td>0.999023</td>\n",
       "      <td>-0.999512</td>\n",
       "      <td>0.943848</td>\n",
       "      <td>0.999512</td>\n",
       "      <td>-0.955566</td>\n",
       "      <td>1.000000</td>\n",
       "    </tr>\n",
       "    <tr>\n",
       "      <th>1008317</th>\n",
       "      <td>-0.991699</td>\n",
       "      <td>0.870605</td>\n",
       "      <td>-0.982910</td>\n",
       "      <td>0.547363</td>\n",
       "      <td>-1.000000</td>\n",
       "      <td>-0.972656</td>\n",
       "      <td>-0.789551</td>\n",
       "      <td>-0.933594</td>\n",
       "      <td>0.883301</td>\n",
       "      <td>0.668457</td>\n",
       "      <td>...</td>\n",
       "      <td>-0.207031</td>\n",
       "      <td>-0.779785</td>\n",
       "      <td>0.983887</td>\n",
       "      <td>-0.901367</td>\n",
       "      <td>0.997559</td>\n",
       "      <td>-0.999512</td>\n",
       "      <td>0.793457</td>\n",
       "      <td>0.999023</td>\n",
       "      <td>-0.954102</td>\n",
       "      <td>1.000000</td>\n",
       "    </tr>\n",
       "    <tr>\n",
       "      <th>1008318</th>\n",
       "      <td>-0.993652</td>\n",
       "      <td>0.935059</td>\n",
       "      <td>-0.970703</td>\n",
       "      <td>0.507324</td>\n",
       "      <td>-1.000000</td>\n",
       "      <td>-0.936523</td>\n",
       "      <td>-0.557617</td>\n",
       "      <td>-0.922363</td>\n",
       "      <td>0.880371</td>\n",
       "      <td>0.833496</td>\n",
       "      <td>...</td>\n",
       "      <td>-0.979004</td>\n",
       "      <td>-0.590820</td>\n",
       "      <td>0.966797</td>\n",
       "      <td>-0.908691</td>\n",
       "      <td>0.998047</td>\n",
       "      <td>-0.998047</td>\n",
       "      <td>0.833008</td>\n",
       "      <td>1.000000</td>\n",
       "      <td>-0.937988</td>\n",
       "      <td>1.000000</td>\n",
       "    </tr>\n",
       "    <tr>\n",
       "      <th>1008319</th>\n",
       "      <td>-0.969238</td>\n",
       "      <td>0.950195</td>\n",
       "      <td>-0.937012</td>\n",
       "      <td>0.498047</td>\n",
       "      <td>-1.000000</td>\n",
       "      <td>-0.979004</td>\n",
       "      <td>-0.649902</td>\n",
       "      <td>-0.986328</td>\n",
       "      <td>0.773926</td>\n",
       "      <td>0.842773</td>\n",
       "      <td>...</td>\n",
       "      <td>-0.806641</td>\n",
       "      <td>-0.842773</td>\n",
       "      <td>0.975098</td>\n",
       "      <td>-0.953613</td>\n",
       "      <td>0.999023</td>\n",
       "      <td>-0.999023</td>\n",
       "      <td>0.951660</td>\n",
       "      <td>0.999023</td>\n",
       "      <td>-0.929688</td>\n",
       "      <td>1.000000</td>\n",
       "    </tr>\n",
       "    <tr>\n",
       "      <th>1008320</th>\n",
       "      <td>0.816895</td>\n",
       "      <td>0.965820</td>\n",
       "      <td>0.527344</td>\n",
       "      <td>-0.686523</td>\n",
       "      <td>0.975098</td>\n",
       "      <td>0.970703</td>\n",
       "      <td>-0.969238</td>\n",
       "      <td>-0.994141</td>\n",
       "      <td>-0.542480</td>\n",
       "      <td>0.551270</td>\n",
       "      <td>...</td>\n",
       "      <td>-0.991211</td>\n",
       "      <td>0.147827</td>\n",
       "      <td>0.996582</td>\n",
       "      <td>0.995117</td>\n",
       "      <td>-0.053162</td>\n",
       "      <td>-0.991211</td>\n",
       "      <td>1.000000</td>\n",
       "      <td>0.998535</td>\n",
       "      <td>0.151001</td>\n",
       "      <td>-1.000000</td>\n",
       "    </tr>\n",
       "  </tbody>\n",
       "</table>\n",
       "<p>1008321 rows × 312 columns</p>\n",
       "</div>"
      ],
      "text/plain": [
       "              0         1         2         3         4         5         6    \\\n",
       "0        0.863770  1.000000 -1.000000 -0.999512 -0.999512 -0.949707  0.998047   \n",
       "1        0.052368 -1.000000  0.434814 -0.998047  0.983887  0.955566  0.981934   \n",
       "2        0.999512  0.999512 -0.999023 -0.981445 -0.144897 -0.363281 -0.887695   \n",
       "3        0.266357  0.999023  0.980469 -0.959961 -0.708496 -0.972656  0.999512   \n",
       "4        0.948242 -1.000000 -0.439697  0.971191 -0.792969 -0.812500 -0.991699   \n",
       "...           ...       ...       ...       ...       ...       ...       ...   \n",
       "1008316 -0.990234  0.969727 -0.952637  0.762695 -1.000000 -0.969727 -0.906738   \n",
       "1008317 -0.991699  0.870605 -0.982910  0.547363 -1.000000 -0.972656 -0.789551   \n",
       "1008318 -0.993652  0.935059 -0.970703  0.507324 -1.000000 -0.936523 -0.557617   \n",
       "1008319 -0.969238  0.950195 -0.937012  0.498047 -1.000000 -0.979004 -0.649902   \n",
       "1008320  0.816895  0.965820  0.527344 -0.686523  0.975098  0.970703 -0.969238   \n",
       "\n",
       "              7         8         9    ...       302       303       304  \\\n",
       "0       -0.999512 -0.853516  1.000000  ... -0.339844 -0.996582 -0.999512   \n",
       "1        0.747559 -0.188477  0.644043  ...  0.998535 -0.859863 -0.969727   \n",
       "2       -0.557617  0.886230  0.998535  ...  0.995605 -1.000000 -0.997070   \n",
       "3       -0.970215 -0.596191 -0.123657  ... -0.999512 -0.434570 -0.095520   \n",
       "4        0.999512  1.000000  0.872070  ...  0.662598  0.998047 -0.999023   \n",
       "...           ...       ...       ...  ...       ...       ...       ...   \n",
       "1008316 -0.973145  0.945312  0.486084  ... -0.947754 -0.934570  0.986816   \n",
       "1008317 -0.933594  0.883301  0.668457  ... -0.207031 -0.779785  0.983887   \n",
       "1008318 -0.922363  0.880371  0.833496  ... -0.979004 -0.590820  0.966797   \n",
       "1008319 -0.986328  0.773926  0.842773  ... -0.806641 -0.842773  0.975098   \n",
       "1008320 -0.994141 -0.542480  0.551270  ... -0.991211  0.147827  0.996582   \n",
       "\n",
       "              305       306       307       308       309       310       311  \n",
       "0        0.999512 -0.987305  1.000000  0.802734  0.997070  0.997070  0.947754  \n",
       "1        0.996094 -0.619629  0.961426 -0.988770  0.632812  0.984375 -0.997070  \n",
       "2        0.999023 -0.994629 -0.998535  0.976562  0.999512 -0.989258 -0.865723  \n",
       "3        0.992676  0.726074  1.000000 -0.989258 -0.473633  0.999512 -0.868652  \n",
       "4        0.996582  0.996582  0.995117 -0.998535 -0.997559 -0.899902  0.996094  \n",
       "...           ...       ...       ...       ...       ...       ...       ...  \n",
       "1008316 -0.914062  0.999023 -0.999512  0.943848  0.999512 -0.955566  1.000000  \n",
       "1008317 -0.901367  0.997559 -0.999512  0.793457  0.999023 -0.954102  1.000000  \n",
       "1008318 -0.908691  0.998047 -0.998047  0.833008  1.000000 -0.937988  1.000000  \n",
       "1008319 -0.953613  0.999023 -0.999023  0.951660  0.999023 -0.929688  1.000000  \n",
       "1008320  0.995117 -0.053162 -0.991211  1.000000  0.998535  0.151001 -1.000000  \n",
       "\n",
       "[1008321 rows x 312 columns]"
      ]
     },
     "execution_count": 25,
     "metadata": {},
     "output_type": "execute_result"
    }
   ],
   "source": [
    "df"
   ]
  },
  {
   "cell_type": "code",
   "execution_count": 26,
   "id": "bb7505dc-6ccc-4091-9d7b-7d25c9a6460e",
   "metadata": {},
   "outputs": [
    {
     "data": {
      "text/html": [
       "<div>\n",
       "<style scoped>\n",
       "    .dataframe tbody tr th:only-of-type {\n",
       "        vertical-align: middle;\n",
       "    }\n",
       "\n",
       "    .dataframe tbody tr th {\n",
       "        vertical-align: top;\n",
       "    }\n",
       "\n",
       "    .dataframe thead th {\n",
       "        text-align: right;\n",
       "    }\n",
       "</style>\n",
       "<table border=\"1\" class=\"dataframe\">\n",
       "  <thead>\n",
       "    <tr style=\"text-align: right;\">\n",
       "      <th></th>\n",
       "      <th>product_name</th>\n",
       "      <th>price</th>\n",
       "      <th>product_vat_rate</th>\n",
       "      <th>product_msr</th>\n",
       "      <th>product_characteristics</th>\n",
       "      <th>okpd2_code</th>\n",
       "      <th>okpd2_name</th>\n",
       "      <th>inn</th>\n",
       "      <th>country_code</th>\n",
       "      <th>okpd2_value</th>\n",
       "      <th>text</th>\n",
       "    </tr>\n",
       "  </thead>\n",
       "  <tbody>\n",
       "    <tr>\n",
       "      <th>0</th>\n",
       "      <td>Драм-юнит Cet CET8997</td>\n",
       "      <td>7605.00</td>\n",
       "      <td>0%</td>\n",
       "      <td>Штука</td>\n",
       "      <td></td>\n",
       "      <td>28.23.25.000</td>\n",
       "      <td>Части и принадлежности прочих офисных машин</td>\n",
       "      <td>6a2325da490021b46bb00834ab4a560a</td>\n",
       "      <td>156</td>\n",
       "      <td>28</td>\n",
       "      <td>драм-юнит cet cet8997 [sep]</td>\n",
       "    </tr>\n",
       "    <tr>\n",
       "      <th>1</th>\n",
       "      <td>Лук репчатый</td>\n",
       "      <td>48.75</td>\n",
       "      <td>Без НДС</td>\n",
       "      <td>Килограмм</td>\n",
       "      <td>Дополнительные показатели (характеристики): Ук...</td>\n",
       "      <td>01.13.43.110</td>\n",
       "      <td>Лук репчатый</td>\n",
       "      <td>c8f328b188e78a1673db8cc2db1b6828</td>\n",
       "      <td>643</td>\n",
       "      <td>01</td>\n",
       "      <td>лук репчатый [sep] дополнительные показатели (...</td>\n",
       "    </tr>\n",
       "    <tr>\n",
       "      <th>2</th>\n",
       "      <td>Карандаш механический (Страна происхождения : ...</td>\n",
       "      <td>8.00</td>\n",
       "      <td>20%</td>\n",
       "      <td>Штука</td>\n",
       "      <td></td>\n",
       "      <td>32.99.12.130</td>\n",
       "      <td>Карандаши механические</td>\n",
       "      <td>9d785973706feeff180ee96a247135e6</td>\n",
       "      <td>156</td>\n",
       "      <td>32</td>\n",
       "      <td>карандаш механический (страна происхождения : ...</td>\n",
       "    </tr>\n",
       "    <tr>\n",
       "      <th>3</th>\n",
       "      <td>Имплантаты для остеосинтеза варианты исполнени...</td>\n",
       "      <td>5200.00</td>\n",
       "      <td>Без НДС</td>\n",
       "      <td>Штука</td>\n",
       "      <td></td>\n",
       "      <td>32.50.50.190</td>\n",
       "      <td>Изделия медицинские, в том числе хирургические...</td>\n",
       "      <td>5a35794bbd7c29420b25479364c26c7b</td>\n",
       "      <td>616</td>\n",
       "      <td>32</td>\n",
       "      <td>имплантаты для остеосинтеза варианты исполнени...</td>\n",
       "    </tr>\n",
       "    <tr>\n",
       "      <th>4</th>\n",
       "      <td>Говядина замороженная для детского питания</td>\n",
       "      <td>490.59</td>\n",
       "      <td>Без НДС</td>\n",
       "      <td>Килограмм</td>\n",
       "      <td></td>\n",
       "      <td>10.11.31.130</td>\n",
       "      <td>Говядина и телятина замороженные для детского ...</td>\n",
       "      <td>91c23daf46d288344828eac627074bf3</td>\n",
       "      <td>643</td>\n",
       "      <td>10</td>\n",
       "      <td>говядина замороженная для детского питания [sep]</td>\n",
       "    </tr>\n",
       "    <tr>\n",
       "      <th>...</th>\n",
       "      <td>...</td>\n",
       "      <td>...</td>\n",
       "      <td>...</td>\n",
       "      <td>...</td>\n",
       "      <td>...</td>\n",
       "      <td>...</td>\n",
       "      <td>...</td>\n",
       "      <td>...</td>\n",
       "      <td>...</td>\n",
       "      <td>...</td>\n",
       "      <td>...</td>\n",
       "    </tr>\n",
       "    <tr>\n",
       "      <th>1008316</th>\n",
       "      <td>1ПТС-2.01.05.000 Ось</td>\n",
       "      <td>NaN</td>\n",
       "      <td>Без НДС</td>\n",
       "      <td>Штука</td>\n",
       "      <td>Описание: 1ПТС-2.01.05.000 Ось || Описание: 1П...</td>\n",
       "      <td>29.20.30.110</td>\n",
       "      <td>Комплектующие (запасные части) прицепов и полу...</td>\n",
       "      <td>f1bdf5ed1d7ad7ede4e3809bd35644b0</td>\n",
       "      <td>-100</td>\n",
       "      <td>29</td>\n",
       "      <td>1птс-2.01.05.000 ось [sep] описание: 1птс-2.01...</td>\n",
       "    </tr>\n",
       "    <tr>\n",
       "      <th>1008317</th>\n",
       "      <td>2ПТС-6.45.01.00 Ось</td>\n",
       "      <td>NaN</td>\n",
       "      <td>Без НДС</td>\n",
       "      <td>Штука</td>\n",
       "      <td>Вид подвески: Рессорная || Ошиновка: Односкатн...</td>\n",
       "      <td>29.20.30.110</td>\n",
       "      <td>Комплектующие (запасные части) прицепов и полу...</td>\n",
       "      <td>f1bdf5ed1d7ad7ede4e3809bd35644b0</td>\n",
       "      <td>-100</td>\n",
       "      <td>29</td>\n",
       "      <td>2птс-6.45.01.00 ось [sep] вид подвески: рессор...</td>\n",
       "    </tr>\n",
       "    <tr>\n",
       "      <th>1008318</th>\n",
       "      <td>2ПТС-8.27.01.000 Ось колёсная</td>\n",
       "      <td>NaN</td>\n",
       "      <td>Без НДС</td>\n",
       "      <td>Штука</td>\n",
       "      <td>Описание: 2ПТС-8.27.01.000 Ось колёсная || Опи...</td>\n",
       "      <td>29.20.30.110</td>\n",
       "      <td>Комплектующие (запасные части) прицепов и полу...</td>\n",
       "      <td>f1bdf5ed1d7ad7ede4e3809bd35644b0</td>\n",
       "      <td>-100</td>\n",
       "      <td>29</td>\n",
       "      <td>2птс-8.27.01.000 ось колёсная [sep] описание: ...</td>\n",
       "    </tr>\n",
       "    <tr>\n",
       "      <th>1008319</th>\n",
       "      <td>2ПТС-10.27.10.000 Ось</td>\n",
       "      <td>NaN</td>\n",
       "      <td>Без НДС</td>\n",
       "      <td>Штука</td>\n",
       "      <td>Ось: Ось || Ось в сборе с АБС: Ось в сборе || ...</td>\n",
       "      <td>29.20.30.110</td>\n",
       "      <td>Комплектующие (запасные части) прицепов и полу...</td>\n",
       "      <td>f1bdf5ed1d7ad7ede4e3809bd35644b0</td>\n",
       "      <td>-100</td>\n",
       "      <td>29</td>\n",
       "      <td>2птс-10.27.10.000 ось [sep] ось: ось || ось в ...</td>\n",
       "    </tr>\n",
       "    <tr>\n",
       "      <th>1008320</th>\n",
       "      <td>«Костюм Сигнальный» летний мужской</td>\n",
       "      <td>NaN</td>\n",
       "      <td>Без НДС</td>\n",
       "      <td>Комплект</td>\n",
       "      <td>Описание: «Костюм Сигнальный» летний мужской |...</td>\n",
       "      <td>14.12.11.120</td>\n",
       "      <td>Костюмы мужские производственные и профессиона...</td>\n",
       "      <td>0b3e822aadc04e7618997b728b8f7e91</td>\n",
       "      <td>-100</td>\n",
       "      <td>14</td>\n",
       "      <td>«костюм сигнальный» летний мужской [sep] описа...</td>\n",
       "    </tr>\n",
       "  </tbody>\n",
       "</table>\n",
       "<p>1008321 rows × 11 columns</p>\n",
       "</div>"
      ],
      "text/plain": [
       "                                              product_name    price  \\\n",
       "0                                    Драм-юнит Cet CET8997  7605.00   \n",
       "1                                             Лук репчатый    48.75   \n",
       "2        Карандаш механический (Страна происхождения : ...     8.00   \n",
       "3        Имплантаты для остеосинтеза варианты исполнени...  5200.00   \n",
       "4               Говядина замороженная для детского питания   490.59   \n",
       "...                                                    ...      ...   \n",
       "1008316                               1ПТС-2.01.05.000 Ось      NaN   \n",
       "1008317                                2ПТС-6.45.01.00 Ось      NaN   \n",
       "1008318                      2ПТС-8.27.01.000 Ось колёсная      NaN   \n",
       "1008319                              2ПТС-10.27.10.000 Ось      NaN   \n",
       "1008320                 «Костюм Сигнальный» летний мужской      NaN   \n",
       "\n",
       "        product_vat_rate product_msr  \\\n",
       "0                     0%       Штука   \n",
       "1                Без НДС   Килограмм   \n",
       "2                    20%       Штука   \n",
       "3                Без НДС       Штука   \n",
       "4                Без НДС   Килограмм   \n",
       "...                  ...         ...   \n",
       "1008316          Без НДС       Штука   \n",
       "1008317          Без НДС       Штука   \n",
       "1008318          Без НДС       Штука   \n",
       "1008319          Без НДС       Штука   \n",
       "1008320          Без НДС    Комплект   \n",
       "\n",
       "                                   product_characteristics    okpd2_code  \\\n",
       "0                                                           28.23.25.000   \n",
       "1        Дополнительные показатели (характеристики): Ук...  01.13.43.110   \n",
       "2                                                           32.99.12.130   \n",
       "3                                                           32.50.50.190   \n",
       "4                                                           10.11.31.130   \n",
       "...                                                    ...           ...   \n",
       "1008316  Описание: 1ПТС-2.01.05.000 Ось || Описание: 1П...  29.20.30.110   \n",
       "1008317  Вид подвески: Рессорная || Ошиновка: Односкатн...  29.20.30.110   \n",
       "1008318  Описание: 2ПТС-8.27.01.000 Ось колёсная || Опи...  29.20.30.110   \n",
       "1008319  Ось: Ось || Ось в сборе с АБС: Ось в сборе || ...  29.20.30.110   \n",
       "1008320  Описание: «Костюм Сигнальный» летний мужской |...  14.12.11.120   \n",
       "\n",
       "                                                okpd2_name  \\\n",
       "0              Части и принадлежности прочих офисных машин   \n",
       "1                                             Лук репчатый   \n",
       "2                                   Карандаши механические   \n",
       "3        Изделия медицинские, в том числе хирургические...   \n",
       "4        Говядина и телятина замороженные для детского ...   \n",
       "...                                                    ...   \n",
       "1008316  Комплектующие (запасные части) прицепов и полу...   \n",
       "1008317  Комплектующие (запасные части) прицепов и полу...   \n",
       "1008318  Комплектующие (запасные части) прицепов и полу...   \n",
       "1008319  Комплектующие (запасные части) прицепов и полу...   \n",
       "1008320  Костюмы мужские производственные и профессиона...   \n",
       "\n",
       "                                      inn country_code okpd2_value  \\\n",
       "0        6a2325da490021b46bb00834ab4a560a          156          28   \n",
       "1        c8f328b188e78a1673db8cc2db1b6828          643          01   \n",
       "2        9d785973706feeff180ee96a247135e6          156          32   \n",
       "3        5a35794bbd7c29420b25479364c26c7b          616          32   \n",
       "4        91c23daf46d288344828eac627074bf3          643          10   \n",
       "...                                   ...          ...         ...   \n",
       "1008316  f1bdf5ed1d7ad7ede4e3809bd35644b0         -100          29   \n",
       "1008317  f1bdf5ed1d7ad7ede4e3809bd35644b0         -100          29   \n",
       "1008318  f1bdf5ed1d7ad7ede4e3809bd35644b0         -100          29   \n",
       "1008319  f1bdf5ed1d7ad7ede4e3809bd35644b0         -100          29   \n",
       "1008320  0b3e822aadc04e7618997b728b8f7e91         -100          14   \n",
       "\n",
       "                                                      text  \n",
       "0                              драм-юнит cet cet8997 [sep]  \n",
       "1        лук репчатый [sep] дополнительные показатели (...  \n",
       "2        карандаш механический (страна происхождения : ...  \n",
       "3        имплантаты для остеосинтеза варианты исполнени...  \n",
       "4         говядина замороженная для детского питания [sep]  \n",
       "...                                                    ...  \n",
       "1008316  1птс-2.01.05.000 ось [sep] описание: 1птс-2.01...  \n",
       "1008317  2птс-6.45.01.00 ось [sep] вид подвески: рессор...  \n",
       "1008318  2птс-8.27.01.000 ось колёсная [sep] описание: ...  \n",
       "1008319  2птс-10.27.10.000 ось [sep] ось: ось || ось в ...  \n",
       "1008320  «костюм сигнальный» летний мужской [sep] описа...  \n",
       "\n",
       "[1008321 rows x 11 columns]"
      ]
     },
     "execution_count": 26,
     "metadata": {},
     "output_type": "execute_result"
    }
   ],
   "source": [
    "temp"
   ]
  },
  {
   "cell_type": "code",
   "execution_count": 27,
   "id": "92972edd-43dd-4859-bb99-b873c4bf883e",
   "metadata": {},
   "outputs": [],
   "source": [
    "df.columns = [str(i) for i in df.columns]"
   ]
  },
  {
   "cell_type": "code",
   "execution_count": 28,
   "id": "38c49b0b-aa1e-470d-9ce0-c0f433103028",
   "metadata": {},
   "outputs": [],
   "source": [
    "temp[\"country_code\"] = temp[\"country_code\"].astype(str)"
   ]
  },
  {
   "cell_type": "code",
   "execution_count": 29,
   "id": "6e4b8af3-c6ce-4345-9fcf-fd9813a16d48",
   "metadata": {},
   "outputs": [],
   "source": [
    "final_df = pd.concat([df, temp], axis=1)"
   ]
  },
  {
   "cell_type": "code",
   "execution_count": 30,
   "id": "1cbb3ee3-3c0b-41bd-a839-300184a02790",
   "metadata": {},
   "outputs": [
    {
     "data": {
      "text/plain": [
       "dtype('O')"
      ]
     },
     "execution_count": 30,
     "metadata": {},
     "output_type": "execute_result"
    }
   ],
   "source": [
    "final_df[\"country_code\"].dtype"
   ]
  },
  {
   "cell_type": "code",
   "execution_count": 31,
   "id": "d282e1a0-ed2f-4d3a-9209-89d7d7c1e9fc",
   "metadata": {},
   "outputs": [],
   "source": [
    "final_df.to_feather(\"bert-tiny-1500-final-df-lower.feather\")"
   ]
  },
  {
   "cell_type": "code",
   "execution_count": null,
   "id": "22881223-5dfd-4244-b4e0-71f5454523dd",
   "metadata": {},
   "outputs": [],
   "source": [
    "df.to_feather(\"bert-tiny-1500-embedings.feather\")"
   ]
  },
  {
   "cell_type": "code",
   "execution_count": null,
   "id": "fd5b4473-8443-407d-8f07-2252604435e7",
   "metadata": {},
   "outputs": [],
   "source": [
    "temp.to_feather(\"bert-tiny-1500-info.feather\")"
   ]
  },
  {
   "cell_type": "code",
   "execution_count": null,
   "id": "e28b3036-85bb-4f1a-b51f-8efc478fbb22",
   "metadata": {},
   "outputs": [],
   "source": [
    "final_df"
   ]
  },
  {
   "cell_type": "code",
   "execution_count": null,
   "id": "f8f27267-4147-4883-838a-16d34d8b3d43",
   "metadata": {},
   "outputs": [],
   "source": [
    "import faiss"
   ]
  },
  {
   "cell_type": "code",
   "execution_count": null,
   "id": "5f69f09a-17a4-493c-9c12-f929d73e2023",
   "metadata": {},
   "outputs": [],
   "source": [
    "embeddings = df.values.astype(np.float32)"
   ]
  },
  {
   "cell_type": "code",
   "execution_count": null,
   "id": "26d81442-1c72-4373-87a9-ef26b1d49e49",
   "metadata": {},
   "outputs": [],
   "source": [
    "embeddings.shape"
   ]
  },
  {
   "cell_type": "code",
   "execution_count": null,
   "id": "1a5ca919-3df7-460a-954f-85df026317c9",
   "metadata": {},
   "outputs": [],
   "source": [
    "embeddings = np.ascontiguousarray(embeddings)"
   ]
  },
  {
   "cell_type": "code",
   "execution_count": null,
   "id": "973bf89d-04ae-4418-9692-6f5a3bfdf6bc",
   "metadata": {},
   "outputs": [],
   "source": [
    "d = 312 # длина эмбеддинга\n",
    "index = faiss.IndexFlatIP(d)\n",
    "index.add(embeddings) # сами эмбеддинги, нампай массив shape = (n_samples, d)"
   ]
  },
  {
   "cell_type": "code",
   "execution_count": null,
   "id": "40eda858-c1ce-4aed-b1db-a83bf38908c6",
   "metadata": {},
   "outputs": [],
   "source": [
    "example_txt = \"Ноутбук HP\"\n",
    "example = tokenizer(example_txt, padding=True,\n",
    "                    max_length=300, truncation=True,\n",
    "                    return_tensors='pt')"
   ]
  },
  {
   "cell_type": "code",
   "execution_count": null,
   "id": "53758246-e44d-4d19-b395-36563ffeda77",
   "metadata": {},
   "outputs": [],
   "source": [
    "with torch.no_grad():\n",
    "    bert_cls.eval()\n",
    "    xq = bert_cls.model(**example.to(device)).pooler_output.detach().cpu().numpy()"
   ]
  },
  {
   "cell_type": "code",
   "execution_count": null,
   "id": "e837e31b-3a23-4946-a6a8-9c373ab4dff6",
   "metadata": {},
   "outputs": [],
   "source": [
    "k = 50\n",
    "D, I = index.search(xq, k) # xq shape = (1, d)"
   ]
  },
  {
   "cell_type": "code",
   "execution_count": null,
   "id": "8f560218-6b4f-40ae-a8e3-56623bd2505f",
   "metadata": {},
   "outputs": [],
   "source": [
    "from pyjarowinkler import distance\n",
    "\n",
    "def string_dist(str1, str2):\n",
    "    return distance.get_jaro_distance(str1, str2,\n",
    "                                      winkler=False,\n",
    "                                      winkler_ajustment=False,\n",
    "                                      scaling=0.2)"
   ]
  },
  {
   "cell_type": "code",
   "execution_count": null,
   "id": "1ccffaea-5569-43d0-93d4-0e276bfb5534",
   "metadata": {},
   "outputs": [],
   "source": [
    "abc = temp.reset_index(drop=True).iloc[I[0]]"
   ]
  },
  {
   "cell_type": "code",
   "execution_count": null,
   "id": "4b2abb2a-000b-44a6-a9bd-86edcdef147f",
   "metadata": {},
   "outputs": [],
   "source": [
    "string_dist(example_txt, 'asda')"
   ]
  },
  {
   "cell_type": "code",
   "execution_count": null,
   "id": "9e3ba716-943c-43f5-88fe-b0aba59d74e3",
   "metadata": {},
   "outputs": [],
   "source": [
    "abc[\"dist\"] = abc[\"product_name\"].apply(lambda x: string_dist(example_txt, x))"
   ]
  },
  {
   "cell_type": "code",
   "execution_count": null,
   "id": "84ceeb6e-904e-4c5f-914f-790dd0d356a6",
   "metadata": {},
   "outputs": [],
   "source": [
    "abc"
   ]
  },
  {
   "cell_type": "code",
   "execution_count": null,
   "id": "dd4f40eb-2bb6-4063-89b8-7a94f81fb342",
   "metadata": {},
   "outputs": [],
   "source": [
    "abc.sort_values(by=\"dist\", ascending=False)"
   ]
  },
  {
   "cell_type": "code",
   "execution_count": null,
   "id": "c9046d49-5fe1-45c5-9ca7-88610a6a30c9",
   "metadata": {},
   "outputs": [],
   "source": []
  },
  {
   "cell_type": "code",
   "execution_count": null,
   "id": "00fc15d3-664a-4690-8b3b-18ff1fbefab0",
   "metadata": {},
   "outputs": [],
   "source": [
    "import torch\n",
    "import torch.nn as nn\n",
    "import torch.nn.functional as F\n",
    "import torch.optim as optim\n",
    "import torchvision\n",
    "from torch.utils.data import Dataset, DataLoader\n",
    "\n",
    "import os\n",
    "import cv2\n",
    "from PIL import Image\n",
    "from tqdm.notebook import tqdm\n",
    "from tqdm.contrib.telegram import tqdm as tgdm_tg\n",
    "from prettytable import PrettyTable\n",
    "import random\n",
    "import numpy as np\n",
    "import gc\n",
    "import scipy.io as sio\n",
    "import pandas as pd\n",
    "import time\n",
    "\n",
    "from sklearn.metrics import f1_score, accuracy_score, matthews_corrcoef\n",
    "\n",
    "from torchvision import datasets, transforms as T\n",
    "\n",
    "from transformers import AutoTokenizer, AutoModel\n",
    "\n",
    "from sklearn import preprocessing\n",
    "from sklearn.model_selection import train_test_split\n",
    "\n",
    "from pynvml import nvmlInit, nvmlDeviceGetHandleByIndex, nvmlDeviceGetMemoryInfo\n",
    "\n",
    "from pyjarowinkler import distance\n",
    "import faiss"
   ]
  },
  {
   "cell_type": "code",
   "execution_count": null,
   "id": "c6058189-0327-401f-a8e6-f753f90695c5",
   "metadata": {},
   "outputs": [],
   "source": [
    "device = torch.device('cuda:2' if torch.cuda.is_available() else 'cpu')\n",
    "tokenizer = AutoTokenizer.from_pretrained(\"cointegrated/rubert-tiny2\")\n",
    "model = AutoModel.from_pretrained(\"cointegrated/rubert-tiny2\")"
   ]
  },
  {
   "cell_type": "code",
   "execution_count": null,
   "id": "b91cd6e4-3c56-49e2-89a2-1173de1224b4",
   "metadata": {},
   "outputs": [],
   "source": [
    "class BertCLS(nn.Module):\n",
    "    def __init__(self, model, n_classes):\n",
    "        super(BertCLS, self).__init__()\n",
    "        self.model = model\n",
    "        self.fc = nn.Linear(312, n_classes)\n",
    "    \n",
    "    def forward(self, batch):\n",
    "        return self.fc(self.model(**batch).pooler_output)"
   ]
  },
  {
   "cell_type": "code",
   "execution_count": null,
   "id": "95394e3f-337b-49b2-91bf-a82ae2c6b8c5",
   "metadata": {},
   "outputs": [],
   "source": [
    "bert_cls = BertCLS(model, 1005)"
   ]
  },
  {
   "cell_type": "code",
   "execution_count": null,
   "id": "7a82e322-cff3-4fb5-918f-c25183ff3082",
   "metadata": {},
   "outputs": [],
   "source": [
    "bert_cls.load_state_dict(torch.load(\"./BertCLS_epoch_3_1000.pth\", map_location=torch.device(\"cpu\")))"
   ]
  },
  {
   "cell_type": "code",
   "execution_count": null,
   "id": "69b6f187-5726-467e-8cd4-32236b7787dd",
   "metadata": {},
   "outputs": [],
   "source": [
    "bert_cls = bert_cls.to(device)"
   ]
  },
  {
   "cell_type": "code",
   "execution_count": null,
   "id": "5767cabb-2c50-4bac-9cae-91c32913be01",
   "metadata": {},
   "outputs": [],
   "source": [
    "def get_embeddings(bert_cls, tokenizer, text):\n",
    "    tokens = tokenizer(text, padding=True,\n",
    "                       max_length=300, truncation=True,\n",
    "                       return_tensors='pt')\n",
    "    tokens = tokens.to(bert_cls.model.device)\n",
    "    return bert_cls.model(**tokens).pooler_output.detach().cpu().numpy()"
   ]
  },
  {
   "cell_type": "code",
   "execution_count": null,
   "id": "a188ce20-467d-421b-bf3d-48bbfb680b4a",
   "metadata": {},
   "outputs": [],
   "source": [
    "def string_dist(str1, str2):\n",
    "    return distance.get_jaro_distance(str1, str2,\n",
    "                                      winkler=True,\n",
    "                                      winkler_ajustment=True,\n",
    "                                      scaling=0.2)"
   ]
  },
  {
   "cell_type": "code",
   "execution_count": null,
   "id": "67003d59-3d3b-4724-89f1-8a2ab4a1e878",
   "metadata": {},
   "outputs": [],
   "source": [
    "final_df = pd.read_feather(\"bert-tiny-1000-final-df.feather\")\n",
    "search_df = final_df[final_df.columns[312:]].reset_index(drop=True)"
   ]
  },
  {
   "cell_type": "code",
   "execution_count": null,
   "id": "f9dfc18b-d8eb-40d2-8059-add7d7bb8a1c",
   "metadata": {},
   "outputs": [],
   "source": [
    "embeddings = final_df[final_df.columns[:312]].values.astype(np.float32)\n",
    "embeddings = np.ascontiguousarray(embeddings)\n",
    "faiss.normalize_L2(embeddings)"
   ]
  },
  {
   "cell_type": "code",
   "execution_count": null,
   "id": "f27c7064-66b4-4a41-a3e9-68b0f7f98f22",
   "metadata": {},
   "outputs": [],
   "source": [
    "d = 312 # длина эмбеддинга\n",
    "index = faiss.IndexFlatIP(d)\n",
    "index.add(embeddings) # сами эмбеддинги, нампай массив shape = (n_samples, d)"
   ]
  },
  {
   "cell_type": "code",
   "execution_count": null,
   "id": "ba0782e1-ab8a-478d-8211-6f8a17a9f67b",
   "metadata": {},
   "outputs": [],
   "source": [
    "text_query = \"стул деревянный\"\n",
    "xq = get_embeddings(bert_cls, tokenizer, text_query)\n",
    "faiss.normalize_L2(xq)"
   ]
  },
  {
   "cell_type": "code",
   "execution_count": null,
   "id": "10b7cde9-56a9-4914-94a6-b4dce593c52c",
   "metadata": {},
   "outputs": [],
   "source": [
    "k = 100\n",
    "D, I = index.search(xq, k) # xq shape = (1, d)"
   ]
  },
  {
   "cell_type": "code",
   "execution_count": null,
   "id": "7dea64cf-1895-40ab-a828-9e5f750fcc2c",
   "metadata": {},
   "outputs": [],
   "source": [
    "faiss_results = search_df.iloc[I[0]].reset_index(drop=True)\n",
    "faiss_results[\"string_dist\"] = faiss_results[\"product_name\"].apply(lambda x: string_dist(x, text_query))\n",
    "faiss_results"
   ]
  },
  {
   "cell_type": "code",
   "execution_count": null,
   "id": "547f04a3-474e-4e65-9ad4-d35e2aa5df85",
   "metadata": {},
   "outputs": [],
   "source": [
    "faiss_results.sort_values(by=\"string_dist\", ascending=False).head(10)"
   ]
  },
  {
   "cell_type": "code",
   "execution_count": null,
   "id": "a4f11b6e-b03a-435b-9408-99e5ade3b294",
   "metadata": {},
   "outputs": [],
   "source": [
    "faiss_results.sort_values(by=\"string_dist\", ascending=False).tail(10)"
   ]
  },
  {
   "cell_type": "code",
   "execution_count": null,
   "id": "3b0335f7-4983-4f02-bdfb-b0dee0939521",
   "metadata": {},
   "outputs": [],
   "source": []
  }
 ],
 "metadata": {
  "kernelspec": {
   "display_name": "max_resnet_venv",
   "language": "python",
   "name": "max_resnet_venv"
  },
  "language_info": {
   "codemirror_mode": {
    "name": "ipython",
    "version": 3
   },
   "file_extension": ".py",
   "mimetype": "text/x-python",
   "name": "python",
   "nbconvert_exporter": "python",
   "pygments_lexer": "ipython3",
   "version": "3.7.12"
  }
 },
 "nbformat": 4,
 "nbformat_minor": 5
}
